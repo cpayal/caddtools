{
 "cells": [
  {
   "cell_type": "markdown",
   "id": "49721952-04c5-4528-8f9f-9b0d1d59e955",
   "metadata": {},
   "source": [
    "# Setup Guide for MD Simulations\n",
    "\n",
    "## Identifying Your Target PDB File\n",
    "\n",
    "Selecting the right PDB file is a crucial first step in structure-based drug design. The choice should align with the specific goals of your research. When navigating the Protein Data Bank, which houses a myriad of protein structures, consider the following to ensure the relevance and accuracy of your simulation:\n",
    "\n",
    "### Considerations for Selecting a PDB File\n",
    "\n",
    "#### Species Relevance:\n",
    "- Preferably choose a structure derived from the species that your research is targeting, typically human. This ensures that the sequences and structural features are representative of your biological system of interest.\n",
    "\n",
    "#### Research Alignment:\n",
    "- If your study involves correlating computational data with experimental data, such as binding kinetics of enzyme activity assays, it's crucial that the protein structure reflects the system used in the lab.\n",
    "\n",
    "#### Ligand Consideration:\n",
    "- The presence and relevance of a bound ligand can significantly impact your research. If your study focuses on a particular ligand or a specific binding site, ensure that the PDB file includes a structure with the ligand bound to the correct site.\n",
    "\n",
    "For this exercise, we will choose T4-Lysozyme, bound with a toluene (as ligand).\n"
   ]
  },
  {
   "cell_type": "markdown",
   "id": "d0c668ff",
   "metadata": {},
   "source": [
    "<div class=\"alert alert-block alert-info\">\n",
    "<b>Tip:</b> You will need Biopython , NGLVIEW and an account on SWISS-MODEL for this module\n",
    "</div>"
   ]
  },
  {
   "cell_type": "markdown",
   "id": "2223acf2-efc1-4885-aa20-c8f4ed9052f6",
   "metadata": {},
   "source": [
    "## Step 1 : Cleaning Up Your PDB File\n",
    "\n",
    "Once you've selected a suitable PDB file, the next step is to clean it up for simulation:\n",
    "\n",
    "- Remove any water molecules, ligands, or ions that are not of interest or that might interfere with the simulation.\n",
    "- Check for and repair any missing atoms or residues that are critical for the structure.\n",
    "- Ensure that the protein structure is in the correct conformational state for your study.\n"
   ]
  },
  {
   "cell_type": "code",
   "execution_count": 1,
   "id": "a75fc6aa-a306-46bd-8861-a1e8b7d12cc6",
   "metadata": {},
   "outputs": [
    {
     "data": {
      "application/vnd.jupyter.widget-view+json": {
       "model_id": "1e87acca5f114f63bbbcd1ac5ab25e52",
       "version_major": 2,
       "version_minor": 0
      },
      "text/plain": []
     },
     "metadata": {},
     "output_type": "display_data"
    }
   ],
   "source": [
    "from Bio.PDB import *\n",
    "import nglview as nv\n",
    "from Bio import *"
   ]
  },
  {
   "cell_type": "code",
   "execution_count": 2,
   "id": "b3199baa-3d58-48bb-b93c-923a667238d9",
   "metadata": {},
   "outputs": [
    {
     "name": "stdout",
     "output_type": "stream",
     "text": [
      "Structure 4w53 loaded successfully!\n"
     ]
    }
   ],
   "source": [
    "# Specify the PDB code\n",
    "pdb_code = \"4w53\"\n",
    "# Assuming the .pdb file is in the current working directory\n",
    "pdb_filename = f\"{pdb_code}.pdb\"\n",
    "\n",
    "# Initialize the parser\n",
    "parser = PDBParser()\n",
    "\n",
    "# Parse the structure\n",
    "structure = parser.get_structure(pdb_code, pdb_filename)\n",
    "print(f\"Structure {pdb_code} loaded successfully!\")"
   ]
  },
  {
   "cell_type": "code",
   "execution_count": 3,
   "id": "fcd16f68-c9dc-47c7-bfe8-43871c89cba9",
   "metadata": {},
   "outputs": [
    {
     "data": {
      "application/vnd.jupyter.widget-view+json": {
       "model_id": "731f8cd6995447d08292d106040251c6",
       "version_major": 2,
       "version_minor": 0
      },
      "text/plain": [
       "NGLWidget()"
      ]
     },
     "metadata": {},
     "output_type": "display_data"
    }
   ],
   "source": [
    "# Visualize the structure with NGLView\n",
    "view = nv.show_biopython(structure)\n",
    "view"
   ]
  },
  {
   "cell_type": "markdown",
   "id": "a45f39d1-9374-4f3a-b2a8-9939715f968f",
   "metadata": {},
   "source": [
    "### Conclusion of above view:\n",
    "As observed from the above view, it is clear that the protein is bound to two different ligands. However, EPE is a solvent use in crystallization condition of the protein, and is not of interest to us. We only want to keep the Toulene molecule, as that is our ligand.\n",
    "\n",
    "The following function automatically identifies the ligands as well as engineered and mutated residues, and allows us to keep the ligand of choice. See the summary and type \"MBN\", the pdb ID of toulene in this protein."
   ]
  },
  {
   "cell_type": "code",
   "execution_count": 4,
   "id": "8ee31192-80ab-48a2-8cbe-bb00cea8f3d3",
   "metadata": {},
   "outputs": [
    {
     "name": "stdout",
     "output_type": "stream",
     "text": [
      "Found 3 ligands: {'EPE', 'MBN', 'HOH'}\n",
      "Found 0 mutations or engineered residues.\n",
      "Enter the names of the ligands you want to keep, separated by a comma (e.g., MBN,EPE): HOH,MBN\n",
      "Ligands to keep: ['HOH', 'MBN']\n"
     ]
    }
   ],
   "source": [
    "def fetch_ligands_and_mutations(pdb_filename):\n",
    "    parser = PDB.PDBParser()\n",
    "    structure = parser.get_structure('PDB', pdb_filename)\n",
    "    \n",
    "    ligands = set()\n",
    "    mutations = set()\n",
    "    \n",
    "    for model in structure:\n",
    "        for chain in model:\n",
    "            for residue in chain:\n",
    "                # Check if residue is a heteroatom (ligand)\n",
    "                if residue.id[0] != ' ':\n",
    "                    ligands.add(residue.resname)\n",
    "                # Check for annotations in the residue id (This part is simplified)\n",
    "                if 'MUTA' in residue.id[0] or 'ENGINEE' in residue.id[0]:\n",
    "                    mutations.add(residue)\n",
    "    \n",
    "    print(f\"Found {len(ligands)} ligands: {ligands}\")\n",
    "    print(f\"Found {len(mutations)} mutations or engineered residues.\")\n",
    "    \n",
    "    # Prompt for user input on ligands to keep\n",
    "    ligands_to_keep = input(\"Enter the names of the ligands you want to keep, separated by a comma (e.g., MBN,EPE): \")\n",
    "    ligands_to_keep = [ligand.strip().upper() for ligand in ligands_to_keep.split(',')]\n",
    "    \n",
    "    return ligands_to_keep\n",
    "\n",
    "# Example usage\n",
    "ligands_to_keep = fetch_ligands_and_mutations(pdb_filename)\n",
    "print(\"Ligands to keep:\", ligands_to_keep)"
   ]
  },
  {
   "cell_type": "markdown",
   "id": "da60c62b-1de8-490f-b75c-59f1bd3abf4e",
   "metadata": {},
   "source": [
    "### Keep chosen ligand in your protein"
   ]
  },
  {
   "cell_type": "markdown",
   "id": "8ba3d872",
   "metadata": {},
   "source": [
    "class LigandSelect(Select):\n",
    "    def accept_residue(self, residue):\n",
    "        # Retain only MBN ligand and the rest of the protein\n",
    "        if residue.get_resname() == ligands_to_keep:\n",
    "            return 0\n",
    "        else:\n",
    "            return 1\n",
    "io = PDBIO()\n",
    "io.set_structure(structure)\n",
    "modified_structure = f\"{pdb_code}_mod.pdb\"\n",
    "io.save(modified_structure, LigandSelect())"
   ]
  },
  {
   "cell_type": "markdown",
   "id": "98facab5-8309-4f1c-a80d-40ec5c3aa393",
   "metadata": {},
   "source": [
    "### Further Processing / Homology Model\n",
    "\n",
    "It is possible to have missing residues and loops from your structure. To fill in such gaps, we need to homology model our protein. \n",
    "While there are tools available such as MODELLER (requires academic or organizational affiliation), SWISS-MODEL, is a web interface which allows any user to model free of cost. Notably, there are also [multiple open source python based tools](https://github.com/topics/homology-modeling) which allow a user to do that. \n",
    "\n",
    "For the context of automation,I will call SWISS-MODEL using an API, to perform this task."
   ]
  },
  {
   "cell_type": "code",
   "execution_count": 6,
   "id": "946f1ce3-dc73-4f48-93a4-22452f3ece72",
   "metadata": {},
   "outputs": [],
   "source": [
    "import requests\n",
    "import json\n",
    "from Bio import Seq"
   ]
  },
  {
   "cell_type": "markdown",
   "id": "bf687653",
   "metadata": {},
   "source": [
    "#### Step 1: Fetch the Uniprot ID to first fetch the full sequence\n",
    "UNIPROT ID is generally provided in the webpage of the pdb ID. Since, published pdbs might have a few residues missing, the full uniprot sequnce ensures that such gaps/missing residues will be filled/modelled in while homology modelling."
   ]
  },
  {
   "cell_type": "code",
   "execution_count": 8,
   "id": "342a5d4b-7fbe-4642-a97d-919ecd025c61",
   "metadata": {},
   "outputs": [
    {
     "name": "stdout",
     "output_type": "stream",
     "text": [
      "UniProt ID for PDB 4W53: P00720\n"
     ]
    }
   ],
   "source": [
    "def fetch_uniprot_id(pdb_id):\n",
    "    url = f\"https://data.rcsb.org/rest/v1/core/polymer_entity/{pdb_id}/1\"\n",
    "    response = requests.get(url)\n",
    "    if response.status_code == 200:\n",
    "        data = response.json()\n",
    "        for reference in data.get(\"rcsb_polymer_entity_container_identifiers\", {}).get(\"reference_sequence_identifiers\", []):\n",
    "            if reference.get(\"database_name\") == \"UniProt\":\n",
    "                return reference.get(\"database_accession\")\n",
    "    return \"UniProt ID not found\"\n",
    "\n",
    "# Example usage\n",
    "pdb_id = \"4W53\"  # Replace with your PDB ID\n",
    "uniprot_id = fetch_uniprot_id(pdb_id)\n",
    "print(f\"UniProt ID for PDB {pdb_id}: {uniprot_id}\")"
   ]
  },
  {
   "cell_type": "markdown",
   "id": "d0edb910",
   "metadata": {},
   "source": [
    "#### Step 2: Fetch the full sequence using the UNIPROT ID"
   ]
  },
  {
   "cell_type": "code",
   "execution_count": 9,
   "id": "048f0ea2-db01-482c-89b0-f96ad080a624",
   "metadata": {},
   "outputs": [
    {
     "name": "stdout",
     "output_type": "stream",
     "text": [
      ">sp|P00720|ENLYS_BPT4 Endolysin OS=Enterobacteria phage T4 OX=10665 GN=E PE=1 SV=2\n",
      "MNIFEMLRIDERLRLKIYKDTEGYYTIGIGHLLTKSPSLNAAKSELDKAIGRNCNGVITK\n",
      "DEAEKLFNQDVDAAVRGILRNAKLKPVYDSLDAVRRCALINMVFQMGETGVAGFTNSLRM\n",
      "LQQKRWDEAAVNLAKSIWYNQTPNRAKRVITTFRTGTWDAYKNL\n",
      "\n"
     ]
    }
   ],
   "source": [
    "def fetch_uniprot_sequence(uniprot_id):\n",
    "    url = f\"https://www.uniprot.org/uniprot/{uniprot_id}.fasta\"\n",
    "    response = requests.get(url)\n",
    "    if response.status_code == 200:\n",
    "        return response.text\n",
    "    else:\n",
    "        print(\"Failed to fetch data\")\n",
    "        return None\n",
    "\n",
    "# Example: Fetching the sequence for a UniProt ID. Replace 'P00720' with UniProt ID for your portein\n",
    "sequence = fetch_uniprot_sequence(uniprot_id)  \n",
    "print(sequence) "
   ]
  },
  {
   "cell_type": "markdown",
   "id": "f0d00a98",
   "metadata": {},
   "source": [
    "#### Step 3 : Get your SWISS-MODEL API authentication token"
   ]
  },
  {
   "cell_type": "code",
   "execution_count": 10,
   "id": "d04181e9-a754-4cc2-a6b2-e63dd4900fcc",
   "metadata": {},
   "outputs": [
    {
     "name": "stdout",
     "output_type": "stream",
     "text": [
      "Your authentication token is: d50c507f0961f6c5d828c489fb350a1dc17e6323\n"
     ]
    }
   ],
   "source": [
    "# Define the URL for the SWISS-MODEL API endpoint\n",
    "# Endpoint for the API to authenticate\n",
    "auth_url = 'https://swissmodel.expasy.org/api-token-auth/'\n",
    "\n",
    "# Your SWISS-MODEL username and password\n",
    "credentials = {\n",
    "    'username': 'chatterjeepayal242@gmail.com',\n",
    "    'password': 'DyxHk7'\n",
    "}\n",
    "\n",
    "# Make the POST request to get the token\n",
    "response = requests.post(auth_url, data=credentials)\n",
    "\n",
    "if response.status_code == 200:\n",
    "    # The request was successful, extract the token\n",
    "    token = response.json().get('token')\n",
    "    print('Your authentication token is:', token)\n",
    "else:\n",
    "    # There was an error\n",
    "    print('Error submitting job:', response.status_code)\n",
    "    print(response.text)"
   ]
  },
  {
   "cell_type": "markdown",
   "id": "3732ad81",
   "metadata": {},
   "source": [
    "#### Step 4 : Use your modified pdb with the ligand \"MBN\" and crystal water as the template in homology modeling. \n",
    "\n",
    "Note : If you are interested in learning further about homology modelling, SWISS-MODEL has a nice [documentation](https://swissmodel.expasy.org/docs/examples) along with examples and assessment of the quality of models.\n",
    "\n",
    "In the following code, replace token with your token."
   ]
  },
  {
   "cell_type": "code",
   "execution_count": 11,
   "id": "49bac16d",
   "metadata": {},
   "outputs": [
    {
     "name": "stdout",
     "output_type": "stream",
     "text": [
      "Job submitted successfully.\n"
     ]
    }
   ],
   "source": [
    "with open(\"4w53_mod.pdb\") as f:\n",
    "    template_coordinates = f.read()\n",
    "\n",
    "    \n",
    "# The base URL for SWISS-MODEL's API\n",
    "base_url = \"https://swissmodel.expasy.org\"\n",
    "\n",
    "# The endpoint for the automodel function\n",
    "usertemplate_endpoint = \"/user_template\"\n",
    "\n",
    "# Your API token\n",
    "api_token = token ### REPLACE HERE WITH YOUR OWN TOKEN\n",
    "\n",
    "# The headers including your authorization token\n",
    "headers = {\n",
    "    \"Authorization\": f\"Token {api_token}\"\n",
    "}\n",
    "\n",
    "# The data you want to send in the POST request\n",
    "data = {\n",
    "    \"target_sequences\": [\"MNIFEMLRIDERLRLKIYKDTEGYYTIGIGHLLTKSPSLNAAKSELDKAIGRNCNGVITKDEAEKLFNQDVDAAVRGILRNAKLKPVYDSLDAVRRCALINMVFQMGETGVAGFTNSLRMLQQKRWDEAAVNLAKSIWYNQTPNRAKRVITTFRTGTWDAYKNL\"],\n",
    "    \"template_coordinates\": template_coordinates,\n",
    "    \"project_title\":\"CADDTOOLS Homology Model\"\n",
    "}\n",
    "\n",
    "# Make the POST request to the automodel endpoint\n",
    "response = requests.post(f\"{base_url}{usertemplate_endpoint}\", headers=headers, json=data)\n",
    "\n",
    "# Check if the request was successful\n",
    "if response.status_code == 200:\n",
    "    print(\"Job submitted successfully.\")\n",
    "    # You can process the response here\n",
    "else:\n",
    "    print(f\"Error submitting job: {response.status_code}\")\n",
    "    print(response.text)"
   ]
  },
  {
   "cell_type": "markdown",
   "id": "c6d0805b",
   "metadata": {},
   "source": [
    "#### Step 4: Fetch the results/status"
   ]
  },
  {
   "cell_type": "code",
   "execution_count": 12,
   "id": "d705a5f0",
   "metadata": {},
   "outputs": [
    {
     "name": "stdout",
     "output_type": "stream",
     "text": [
      "Job status is now COMPLETED\n"
     ]
    }
   ],
   "source": [
    "# Obtain the project_id from the response created above\n",
    "project_id = response.json()[\"project_id\"]\n",
    "\n",
    "# And loop until the project completes\n",
    "import time\n",
    "while True:\n",
    "    # We wait for some time\n",
    "    time.sleep(10)\n",
    "\n",
    "    # Update the status from the server \n",
    "    response = requests.get(\n",
    "        f\"https://swissmodel.expasy.org/project/{ project_id }/models/summary/\", \n",
    "        headers={ \"Authorization\": f\"Token {token}\" })\n",
    "\n",
    "    # Update the status\n",
    "    status = response.json()[\"status\"]\n",
    "\n",
    "    print('Job status is now', status)\n",
    "\n",
    "    if status in [\"COMPLETED\", \"FAILED\"]:\n",
    "        break"
   ]
  },
  {
   "cell_type": "markdown",
   "id": "e27a5605",
   "metadata": {},
   "source": [
    "#### Step 5: Check if the job is COMPLETED and fetch the model coordinates\n",
    "\n",
    "Once you receieve the url, click on it to directly download."
   ]
  },
  {
   "cell_type": "code",
   "execution_count": 13,
   "id": "2ca21aec",
   "metadata": {},
   "outputs": [
    {
     "name": "stdout",
     "output_type": "stream",
     "text": [
      "https://swissmodel.expasy.org/project/bdb0fc/models/01.pdb.gz\n"
     ]
    }
   ],
   "source": [
    "response_object = response.json()\n",
    "if response_object['status']=='COMPLETED':\n",
    "    for model in response_object['models']:\n",
    "        print(model['coordinates_url'])"
   ]
  },
  {
   "cell_type": "markdown",
   "id": "e3f42972",
   "metadata": {},
   "source": [
    "<div class=\"alert alert-block alert-info\">\n",
    "<b>Tip:</b> Note that this API is not a bypass of the multiple validation files you receive when using the website directly, but only an attempt to automate system prepartion process. \n",
    "</div>"
   ]
  },
  {
   "cell_type": "code",
   "execution_count": null,
   "id": "4e675804",
   "metadata": {},
   "outputs": [],
   "source": []
  }
 ],
 "metadata": {
  "kernelspec": {
   "display_name": "Python 3 (ipykernel)",
   "language": "python",
   "name": "python3"
  },
  "language_info": {
   "codemirror_mode": {
    "name": "ipython",
    "version": 3
   },
   "file_extension": ".py",
   "mimetype": "text/x-python",
   "name": "python",
   "nbconvert_exporter": "python",
   "pygments_lexer": "ipython3",
   "version": "3.9.12"
  }
 },
 "nbformat": 4,
 "nbformat_minor": 5
}
